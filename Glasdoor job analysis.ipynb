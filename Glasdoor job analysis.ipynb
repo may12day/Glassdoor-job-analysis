{
 "cells": [
  {
   "cell_type": "code",
   "execution_count": 1,
   "metadata": {},
   "outputs": [],
   "source": [
    "import pandas as pd\n",
    "import numpy as np\n",
    "import matplotlib.pyplot as plt"
   ]
  },
  {
   "cell_type": "code",
   "execution_count": 2,
   "metadata": {},
   "outputs": [
    {
     "data": {
      "text/plain": [
       "(1048, 5)"
      ]
     },
     "execution_count": 2,
     "metadata": {},
     "output_type": "execute_result"
    }
   ],
   "source": [
    "df1 = pd.read_csv(\"datascience.csv\",encoding=\"utf-8\")\n",
    "df2 = pd.read_csv(\"machinelearning.csv\",encoding=\"utf-8\")\n",
    "\n",
    "\n",
    "df = pd.concat([df1,df2], axis=0).drop_duplicates()\n",
    "df.shape"
   ]
  },
  {
   "cell_type": "code",
   "execution_count": 3,
   "metadata": {},
   "outputs": [
    {
     "name": "stdout",
     "output_type": "stream",
     "text": [
      "                                                 Title   Location  \\\n",
      "0                                         Data Analyst  Bengaluru   \n",
      "1                                     Sr. Data Analyst  Bengaluru   \n",
      "2    Senior Software Development Engineer in Test (...  Bengaluru   \n",
      "3                                      Sr Data Analyst  Bengaluru   \n",
      "4                                        Lead Engineer  Bengaluru   \n",
      "5                                      Sr. Manager DSA  Bengaluru   \n",
      "6                                    Sr Data Scientist  Bengaluru   \n",
      "7                                             Engineer  Bengaluru   \n",
      "8                              Data Science Researcher  Bengaluru   \n",
      "9                                 Data Science Analyst  Bengaluru   \n",
      "10                                        Data Analyst    Gurgaon   \n",
      "11                        Data Science (Jupyter/Azure      Mumbai   \n",
      "12                             Data Science Specialist  Bengaluru   \n",
      "13                                    Data Scientist –    Gurgaon   \n",
      "14                                Data Science Analyst  Bengaluru   \n",
      "15                                      Data Scientist  Hyderabad   \n",
      "16                              Analyst-Data Analytics    Chennai   \n",
      "17                                      Data Scientist  Bengaluru   \n",
      "18                                      Data Scientist     Mumbai   \n",
      "19                              Associate Data Analyst    Gurgaon   \n",
      "20                                  Quant Data Analyst      Noida   \n",
      "21                                      Data Analyst I  Bengaluru   \n",
      "22                                      Data Scientist  Bengaluru   \n",
      "23                              Data Science Developer  Bengaluru   \n",
      "24                                      Data Scientist    Chennai   \n",
      "25                                     Python Engineer  Bengaluru   \n",
      "26         Data Science Manager (NLP, Speech Engineer)    Gurgaon   \n",
      "27                               Data Science - Intern  Bengaluru   \n",
      "28                                       Data Engineer  Bengaluru   \n",
      "29             Data Scientist: Artificial Intelligence    Kolkata   \n",
      "..                                                 ...        ...   \n",
      "536  Lendingkart - Telesales Role - Loan Vertical (...  Ahmedabad   \n",
      "537                                Lead Data Scientist  Bengaluru   \n",
      "538                   Software Development Engineer II  Bengaluru   \n",
      "539  Software Engineering - Machine Learning Platfo...  Bengaluru   \n",
      "541                              Research Scientist II    Chennai   \n",
      "542                                     Data Scientist  Bengaluru   \n",
      "543                                     Data Scientist      India   \n",
      "544                                     Data Scientist  Hyderabad   \n",
      "545                                                NaN     Mumbai   \n",
      "546                     Software Engineer - JavaScript  Bengaluru   \n",
      "547                                     Data Scientist  Bengaluru   \n",
      "548                            Research Data Scientist  Bengaluru   \n",
      "549                                     Data Scientist  Bengaluru   \n",
      "550                    Product Owner- Machine Learning  Bengaluru   \n",
      "551                                     Data Scientist       Pune   \n",
      "552                                     Data Scientist    Chennai   \n",
      "553                                 Product Designer (  Bengaluru   \n",
      "554                                Lead Data Scientist       Pune   \n",
      "555                                     Data Scientist      Noida   \n",
      "556                      Senior Data Analyst - Ad Tech    Gurgaon   \n",
      "557                                   Senior Developer  Bengaluru   \n",
      "558                                     Data Scientist    Chennai   \n",
      "559                                     Data Scientist  Bengaluru   \n",
      "560                                     Data Scientist       Pune   \n",
      "561                                     Data Scientist      India   \n",
      "563                                     Data Scientist    Gurgaon   \n",
      "564                                     Data Scientist  Bengaluru   \n",
      "567                                     Data Scientist    Chennai   \n",
      "568  Devops Engineer with Security for Machine Lear...  Bengaluru   \n",
      "569                 Program Manager, Search and Sensei      Noida   \n",
      "\n",
      "                               Company Rating  \\\n",
      "0                               Target    4.0   \n",
      "1                               Target    4.0   \n",
      "2                             AutoGrid   None   \n",
      "3                               Target    4.0   \n",
      "4                               Target    4.0   \n",
      "5                               Target    4.0   \n",
      "6                               Target    4.0   \n",
      "7                               Target    4.0   \n",
      "8                                Shell    3.9   \n",
      "9                                  AIG    3.1   \n",
      "10                         GroundTruth   None   \n",
      "11                           Accenture    3.9   \n",
      "12                           Accenture    3.9   \n",
      "13                            Mobileum    3.5   \n",
      "14                                Dell    3.9   \n",
      "15                             Neustar   None   \n",
      "16                             Verizon    3.6   \n",
      "17                              Intuit    4.1   \n",
      "18                     Star TV Network    3.6   \n",
      "19              Fidelity International    3.5   \n",
      "20                            Barclays    3.8   \n",
      "21                             HP Inc.    4.1   \n",
      "22                          ExxonMobil    3.8   \n",
      "23                              Oracle    3.5   \n",
      "24                               Shell    3.9   \n",
      "25                            AutoGrid   None   \n",
      "26                  UnitedHealth Group    3.4   \n",
      "27                              zeotap   None   \n",
      "28                       GE Healthcare    3.9   \n",
      "29                                 IBM    3.7   \n",
      "..                                 ...    ...   \n",
      "536                        Lendingkart    3.9   \n",
      "537            Tavant technologies ltd    3.6   \n",
      "538                          Microsoft    4.1   \n",
      "539                              Chase   None   \n",
      "541                             Amazon    4.1   \n",
      "542                 Altair Engineering   None   \n",
      "543                           Leoforce   None   \n",
      "544              SoulPage IT Solutions    4.5   \n",
      "545      Han Digital Solution (P) Ltd.   None   \n",
      "546                      Instart Logic   None   \n",
      "547                      Tech Mahindra    3.9   \n",
      "548                 Analytics Quotient    3.4   \n",
      "549                       Eka Software    3.6   \n",
      "550                     SuccessFactors   None   \n",
      "551                           Nihilent   None   \n",
      "552                        Crayon Data    4.0   \n",
      "553                        ThoughtSpot   None   \n",
      "554                             Qualys    2.3   \n",
      "555               Gauge Data Solutions    3.1   \n",
      "556                              Saavn    4.4   \n",
      "557                        J.P. Morgan    3.9   \n",
      "558                     Magna Infotech    2.9   \n",
      "559                              Xebia    4.1   \n",
      "560                     Nitor Infotech    2.4   \n",
      "561                           DBS Bank   None   \n",
      "563                           Mobileum    3.5   \n",
      "564         Travash Software Solutions    4.0   \n",
      "567  Saaki Argus And Averil Consulting    4.3   \n",
      "568                     SuccessFactors   None   \n",
      "569                              Adobe    4.2   \n",
      "\n",
      "                                           Description  \n",
      "0    Description:  About us:  Target is an iconic b...  \n",
      "1    Description:  Education/Experience: Bachelors ...  \n",
      "2    Description:  Education/Experience: Bachelors ...  \n",
      "3    Description:  Education/Experience: Bachelors ...  \n",
      "4    Description:  Education/Experience: Bachelors ...  \n",
      "5    Description:  Education/Experience: Bachelors ...  \n",
      "6    Description:  Education/Experience: Bachelors ...  \n",
      "7    Description:  Education/Experience: Bachelors ...  \n",
      "8    Description:  Education/Experience: Bachelors ...  \n",
      "9    Description:  Education/Experience: Bachelors ...  \n",
      "10   Description:  Education/Experience: Bachelors ...  \n",
      "11   Description:  Education/Experience: Bachelors ...  \n",
      "12   Description:  Education/Experience: Bachelors ...  \n",
      "13   Description:  Education/Experience: Bachelors ...  \n",
      "14   Description:  Education/Experience: Bachelors ...  \n",
      "15   Description:  Education/Experience: Bachelors ...  \n",
      "16   Description:  Education/Experience: Bachelors ...  \n",
      "17   Description:  Education/Experience: Bachelors ...  \n",
      "18   Description:  Education/Experience: Bachelors ...  \n",
      "19   Description:  Education/Experience: Bachelors ...  \n",
      "20   Description:  Education/Experience: Bachelors ...  \n",
      "21   Description:  Education/Experience: Bachelors ...  \n",
      "22   Description:  Education/Experience: Bachelors ...  \n",
      "23   Description:  Education/Experience: Bachelors ...  \n",
      "24   Description:  Education/Experience: Bachelors ...  \n",
      "25   Description:  Education/Experience: Bachelors ...  \n",
      "26   Description:  Education/Experience: Bachelors ...  \n",
      "27   Description:  Education/Experience: Bachelors ...  \n",
      "28   Description:  Education/Experience: Bachelors ...  \n",
      "29   Description:  Education/Experience: Bachelors ...  \n",
      "..                                                 ...  \n",
      "536  About the company: Aspagteq is a high-end, lea...  \n",
      "537  About the company: Aspagteq is a high-end, lea...  \n",
      "538  About the company: Aspagteq is a high-end, lea...  \n",
      "539  About the company: Aspagteq is a high-end, lea...  \n",
      "541  We're looking for highly qualified Data Scient...  \n",
      "542  We're looking for highly qualified Data Scient...  \n",
      "543  We're looking for highly qualified Data Scient...  \n",
      "544  We're looking for highly qualified Data Scient...  \n",
      "545  We're looking for highly qualified Data Scient...  \n",
      "546  We're looking for highly qualified Data Scient...  \n",
      "547  We're looking for highly qualified Data Scient...  \n",
      "548  We're looking for highly qualified Data Scient...  \n",
      "549  We're looking for highly qualified Data Scient...  \n",
      "550  We're looking for highly qualified Data Scient...  \n",
      "551  We're looking for highly qualified Data Scient...  \n",
      "552  We're looking for highly qualified Data Scient...  \n",
      "553  We're looking for highly qualified Data Scient...  \n",
      "554  We're looking for highly qualified Data Scient...  \n",
      "555  We're looking for highly qualified Data Scient...  \n",
      "556  We're looking for highly qualified Data Scient...  \n",
      "557  We're looking for highly qualified Data Scient...  \n",
      "558  We're looking for highly qualified Data Scient...  \n",
      "559  We're looking for highly qualified Data Scient...  \n",
      "560  We're looking for highly qualified Data Scient...  \n",
      "561  We're looking for highly qualified Data Scient...  \n",
      "563  We're looking for highly qualified Data Scient...  \n",
      "564  We're looking for highly qualified Data Scient...  \n",
      "567  We're looking for highly qualified Data Scient...  \n",
      "568  We're looking for highly qualified Data Scient...  \n",
      "569  We're looking for highly qualified Data Scient...  \n",
      "\n",
      "[1048 rows x 5 columns]\n"
     ]
    }
   ],
   "source": [
    "print(df)"
   ]
  },
  {
   "cell_type": "code",
   "execution_count": 4,
   "metadata": {},
   "outputs": [
    {
     "data": {
      "text/plain": [
       "<matplotlib.axes._subplots.AxesSubplot at 0x148a7782780>"
      ]
     },
     "execution_count": 4,
     "metadata": {},
     "output_type": "execute_result"
    },
    {
     "data": {
      "image/png": "[encoded data removed]",
      "text/plain": [
       "<Figure size 1440x360 with 1 Axes>"
      ]
     },
     "metadata": {
      "needs_background": "light"
     },
     "output_type": "display_data"
    }
   ],
   "source": [
    "#companies with top 20 highest number of job listings\n",
    "counts = df.groupby(\"Company\").count()[\"Title\"].sort_values(ascending=False)[:20]\n",
    "counts.plot(\"bar\",figsize=(20,5))"
   ]
  },
  {
   "cell_type": "code",
   "execution_count": 5,
   "metadata": {},
   "outputs": [
    {
     "data": {
      "text/plain": [
       "Location\n",
       "Bengaluru    384\n",
       "Pune         111\n",
       "Gurgaon      101\n",
       "Hyderabad     96\n",
       "Mumbai        74\n",
       "Chennai       51\n",
       "Noida         44\n",
       "New Delhi     41\n",
       "India         28\n",
       "Ahmedabad     21\n",
       "Name: Title, dtype: int64"
      ]
     },
     "execution_count": 5,
     "metadata": {},
     "output_type": "execute_result"
    }
   ],
   "source": [
    "#Locations with top 10 highest number of job listings\n",
    "loc_counts = df.groupby(\"Location\").count()[\"Title\"].sort_values(ascending=False)[:10]\n",
    "loc_counts"
   ]
  },
  {
   "cell_type": "code",
   "execution_count": 6,
   "metadata": {},
   "outputs": [],
   "source": [
    "def cleanData(desc):\n",
    "    desc = word_tokenize(desc)\n",
    "    desc = [word.lower() for word in desc if word.isalpha() and len(word) > 2]\n",
    "    desc = [word for word in desc if word not in stop_words]\n",
    "    return desc"
   ]
  },
  {
   "cell_type": "code",
   "execution_count": 7,
   "metadata": {},
   "outputs": [],
   "source": [
    "import nltk\n",
    "from nltk import word_tokenize\n",
    "\n",
    "from nltk.corpus import stopwords\n",
    "stop_words = stopwords.words('english')\n",
    "\n",
    "tags_df = df[\"Description\"].apply(cleanData)"
   ]
  },
  {
   "cell_type": "code",
   "execution_count": 8,
   "metadata": {},
   "outputs": [],
   "source": [
    "from collections import Counter\n",
    "result = tags_df.apply(Counter).sum().items()\n",
    "result = sorted(result, key=lambda kv: kv[1],reverse=True)\n",
    "result_series = pd.Series({k: v for k, v in result})"
   ]
  },
  {
   "cell_type": "code",
   "execution_count": 9,
   "metadata": {},
   "outputs": [],
   "source": [
    "skills = [\"experienced\",\"expert\",\"intern\",\"intermediate\",\"beginner\",\"fresher\"]\n",
    "#skills = [\"aws\",\"azure\"]\n",
    "#skills = [\"nltk\",\"pandas\",\"numpy\",\"matplotlib\",\"jupyter\",\"opencv\"]\n",
    "#skills = [\"statistics\",\"machine\",\"deep\",\"neural\",\"predictive\"]"
   ]
  },
  {
   "cell_type": "code",
   "execution_count": 10,
   "metadata": {},
   "outputs": [
    {
     "data": {
      "text/plain": [
       "<matplotlib.axes._subplots.AxesSubplot at 0x148ab7b3b38>"
      ]
     },
     "execution_count": 10,
     "metadata": {},
     "output_type": "execute_result"
    },
    {
     "data": {
      "image/png": "[encoded data removed]",
      "text/plain": [
       "<Figure size 1440x360 with 1 Axes>"
      ]
     },
     "metadata": {
      "needs_background": "light"
     },
     "output_type": "display_data"
    }
   ],
   "source": [
    "filter_series = result_series.filter(items=skills)\n",
    "filter_series.plot('bar',figsize=(20,5))"
   ]
  },
  {
   "cell_type": "code",
   "execution_count": null,
   "metadata": {},
   "outputs": [],
   "source": []
  }
 ],
 "metadata": {
  "kernelspec": {
   "display_name": "Python 3",
   "language": "python",
   "name": "python3"
  },
  "language_info": {
   "codemirror_mode": {
    "name": "ipython",
    "version": 3
   },
   "file_extension": ".py",
   "mimetype": "text/x-python",
   "name": "python",
   "nbconvert_exporter": "python",
   "pygments_lexer": "ipython3",
   "version": "3.7.3"
  }
 },
 "nbformat": 4,
 "nbformat_minor": 2
}
