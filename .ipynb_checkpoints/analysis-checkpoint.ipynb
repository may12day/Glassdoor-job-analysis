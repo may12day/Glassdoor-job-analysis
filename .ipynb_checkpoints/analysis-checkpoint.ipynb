{
 "cells": [
  {
   "cell_type": "code",
   "execution_count": 2,
   "metadata": {},
   "outputs": [],
   "source": [
    "from selenium import webdriver\n",
    "import pandas as pd\n",
    "from bs4 import BeautifulSoup"
   ]
  },
  {
   "cell_type": "code",
   "execution_count": 3,
   "metadata": {},
   "outputs": [],
   "source": [
    "driver = webdriver.Chrome(\"C://Users//Mayank//Downloads//chromedriver.exe\")"
   ]
  },
  {
   "cell_type": "code",
   "execution_count": 4,
   "metadata": {},
   "outputs": [],
   "source": [
    "dataframe = pd.DataFrame(columns=[\"Title\",\"Location\",\"Company\",\"Salary\",\"Description\"])"
   ]
  },
  {
   "cell_type": "code",
   "execution_count": 5,
   "metadata": {},
   "outputs": [],
   "source": [
    "driver.get(\"https://www.glassdoor.co.in/Job/india-data-science-jobs-SRCH_IL.0,5_IN115_KO6,18.htm\")"
   ]
  },
  {
   "cell_type": "code",
   "execution_count": 6,
   "metadata": {},
   "outputs": [],
   "source": [
    "driver.implicitly_wait(4)"
   ]
  },
  {
   "cell_type": "code",
   "execution_count": 7,
   "metadata": {},
   "outputs": [],
   "source": [
    "all_jobs = driver.find_elements_by_class_name('jl')"
   ]
  },
  {
   "cell_type": "code",
   "execution_count": 8,
   "metadata": {},
   "outputs": [
    {
     "name": "stdout",
     "output_type": "stream",
     "text": [
      "Senior Software Development Engineer in Test (SDET)\n",
      "Data Analyst\n",
      "Sr. Data Analyst\n",
      "Sr Data Analyst\n",
      "Sr Data Scientist\n",
      "Lead Engineer\n",
      "Data Science Researcher\n",
      "Sr. Manager DSA\n",
      "Data Analyst\n",
      "Engineer\n",
      "Data Science Analyst\n",
      "Data Science (Jupyter/Azure \n",
      "Data Scientist –\n",
      "Data Science Specialist\n",
      "Data Science Analyst\n",
      "Data Scientist\n",
      "Analyst-Data Analytics\n",
      "Data Scientist\n",
      "Quant Data Analyst\n",
      "Data Scientist\n",
      "Data Analyst I\n",
      "Data Scientist\n",
      "Data Scientist\n",
      "Data Science Developer\n",
      "Python Engineer\n",
      "Data Science Manager (NLP, Speech Engineer)\n",
      "Data Science - Intern\n",
      "Data Engineer\n",
      "Data Scientist: Artificial Intelligence\n",
      "Data Scientist\n"
     ]
    }
   ],
   "source": [
    "for job in all_jobs:\n",
    "\n",
    "    result_html = job.get_attribute('innerHTML')\n",
    "    soup = BeautifulSoup(result_html,'html.parser')\n",
    "\n",
    "    try:\n",
    "        title = soup.find(\"div\",class_=\"jobHeader\").text.replace('\\n','')\n",
    "    except:\n",
    "        title = 'None'\n",
    "        \n",
    "    tit_len = len(title)\n",
    "    \n",
    "    try:\n",
    "        location = soup.find(class_=\"subtle loc\").text\n",
    "    except:\n",
    "        location = 'None'\n",
    "        \n",
    "    loc_len = location[0]\n",
    "    \n",
    "    try:\n",
    "        company = soup.find('div', {'class' :'jobContainer'}).text[tit_len:]\n",
    "        company = company[:company.index(loc_len)]\n",
    "    except:\n",
    "        company = 'None'\n",
    "        \n",
    "    print(company)\n",
    "\n",
    "    \n"
   ]
  },
  {
   "cell_type": "code",
   "execution_count": 28,
   "metadata": {},
   "outputs": [
    {
     "name": "stdout",
     "output_type": "stream",
     "text": [
      "Neustar\n"
     ]
    }
   ],
   "source": []
  },
  {
   "cell_type": "code",
   "execution_count": null,
   "metadata": {},
   "outputs": [],
   "source": []
  }
 ],
 "metadata": {
  "kernelspec": {
   "display_name": "Python 3",
   "language": "python",
   "name": "python3"
  },
  "language_info": {
   "codemirror_mode": {
    "name": "ipython",
    "version": 3
   },
   "file_extension": ".py",
   "mimetype": "text/x-python",
   "name": "python",
   "nbconvert_exporter": "python",
   "pygments_lexer": "ipython3",
   "version": "3.7.3"
  }
 },
 "nbformat": 4,
 "nbformat_minor": 2
}
